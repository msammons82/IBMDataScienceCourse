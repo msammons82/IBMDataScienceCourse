{
 "cells": [
  {
   "cell_type": "markdown",
   "id": "5dc7e0ce-2bc9-47a4-9e3e-122c157930d4",
   "metadata": {},
   "source": [
    "# My Jupyter Notebook on IBM Watson Studio"
   ]
  },
  {
   "cell_type": "markdown",
   "id": "d5ad0ce1-af23-439f-8c95-8a34ec5ac0e3",
   "metadata": {},
   "source": [
    "**Michael Sammons** My Current Profession is Firefighter/Paramedic"
   ]
  },
  {
   "cell_type": "markdown",
   "id": "c5232ebe-636a-4250-b3f2-72fc9b77419e",
   "metadata": {},
   "source": [
    "*I am interested in data science because I have always been interested in Computers and Programming, slowly I have been increasing that knowledge*"
   ]
  },
  {
   "cell_type": "markdown",
   "id": "b5a08b14-221e-4a27-80e3-e3be6dc1d061",
   "metadata": {},
   "source": [
    "### This code below is the famous hello world, the famous one that everyone knows"
   ]
  },
  {
   "cell_type": "code",
   "execution_count": 1,
   "id": "124be360-f793-43fb-bd23-2bf0a0a1815c",
   "metadata": {},
   "outputs": [
    {
     "name": "stdout",
     "output_type": "stream",
     "text": [
      "Hello,IBM\n"
     ]
    }
   ],
   "source": [
    "print(\"Hello,IBM\")"
   ]
  },
  {
   "cell_type": "markdown",
   "id": "0055456d-3d4d-4c97-80d7-8191b3c362b2",
   "metadata": {},
   "source": [
    "1. --This is my first one--\n",
    "2.See there are two knocked out right now.\n",
    "3.[And here is the last one](https://www.coursera.org)"
   ]
  }
 ],
 "metadata": {
  "kernelspec": {
   "display_name": "Python",
   "language": "python",
   "name": "conda-env-python-py"
  },
  "language_info": {
   "codemirror_mode": {
    "name": "ipython",
    "version": 3
   },
   "file_extension": ".py",
   "mimetype": "text/x-python",
   "name": "python",
   "nbconvert_exporter": "python",
   "pygments_lexer": "ipython3",
   "version": "3.7.12"
  }
 },
 "nbformat": 4,
 "nbformat_minor": 5
}
